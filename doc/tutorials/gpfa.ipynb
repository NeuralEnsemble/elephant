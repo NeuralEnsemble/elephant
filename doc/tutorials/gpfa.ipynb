{
 "cells": [
  {
   "cell_type": "markdown",
   "metadata": {},
   "source": [
    "# Tutorial: GPFA (Gaussian Process Factor Analysis)"
   ]
  },
  {
   "cell_type": "markdown",
   "metadata": {},
   "source": [
    "Gaussian-process factor analysis (GPFA) is a dimensionality reduction method\n",
    "[1] for neural trajectory visualization of parallel spike trains. GPFA applies\n",
    "factor analysis (FA) time-binned spike count data to reduce the dimensionality\n",
    "and at the same time smoothes the resulting low-dimensional trajectories by\n",
    "fitting a Gaussian process (GP) model to them.\n",
    "\n",
    "The input consists of a set of trials (Y), each containing a list of spike\n",
    "trains (N neurons). The output is the projection (X) of the data in space\n",
    "of pre-chosen dimension x_dim < N.\n",
    "\n",
    "Under the assumption of a linear relation between the latent variable X and the\n",
    "actual data Y in addition to a noise term (i.e.,\n",
    ":math:`Y = C * X + d + Gauss(0,R)`), the projection corresponds to the\n",
    "conditional probability E[X|Y].\n",
    "\n",
    "A Gaussian process (X) of dimension x_dim < N is adopted to extract smooth\n",
    "neural trajectories. The parameters (C, d, R) are estimated from the data using\n",
    "factor analysis technique.\n",
    "\n",
    "Internally, the analysis consists of the following steps:\n",
    "\n",
    "0) bin the data to get a sequence of N dimensional vectors of spike counts for\n",
    "   each time bin, and choose the reduced dimension x_dim\n",
    "\n",
    "1) expectation maximization for the parameters C, d, R and the time-scale of\n",
    "   the Gaussian process, using all the trials provided as input (cf.,\n",
    "   `gpfa_core.em()`)\n",
    "\n",
    "2) projection of single trials in the low dimensional space (cf.,\n",
    "   `gpfa_core.exact_inference_with_ll()`)\n",
    "\n",
    "3) orthonormalization of the matrix C and the corresponding subspace:\n",
    "   (cf., `gpfa_core.orthonormalize()`)\n",
    "\n",
    "\n",
    "\n",
    "References\n",
    "----------\n",
    "The code was ported from the MATLAB code based on Byron Yu's implementation.\n",
    "The original MATLAB code is available at Byron Yu's website:\n",
    "https://users.ece.cmu.edu/~byronyu/software.shtml\n",
    "\n",
    "[1] Yu MB, Cunningham JP, Santhanam G, Ryu SI, Shenoy K V, Sahani M (2009)\n",
    "Gaussian-process factor analysis for low-dimensional single-trial analysis of\n",
    "neural population activity. J Neurophysiol 102:614-635.\n",
    "\n",
    ":copyright: Copyright 2015-2019 by the Elephant team, see AUTHORS.txt.\n",
    ":license: Modified BSD, see LICENSE.txt for details."
   ]
  },
  {
   "cell_type": "markdown",
   "metadata": {},
   "source": [
    "## Idea of this Tutorial\n",
    "\n",
    "This tutorial illustrates the usage of the GPFA class implemented in elephant.\n",
    "\n",
    "The example was inspired by the supplementary material of:\n",
    "    \n",
    "[1] Pandarinath, C. et al. Inferring single-trial neural population dynamics using sequential auto-encoders. Nat. Methods 15, 805–815 (2018).\n",
    "\n",
    "### Generation of synthetic spiketrains\n",
    "\n",
    "First a set of spiketrains will be created: The trajectories obtained from either a 2D-harmonic oscillator or a 3D-Lorentz attractor (used parametrization taken from (https://en.wikipedia.org/wiki/Lorenz_system)) will be projected into a high-dimensional space via random projection. The resulting high-dimensional trajectories serve as instantaneous rates for an inhomogeneous Poisson process which in turn yields synthetic spiketrains. The list of spiketrains will serve as input data to the GPFA.\n",
    "\n",
    "### fit() and transform()\n",
    "\n",
    "In this scenario we use one dataset to fit the model and to extract the neural trajectories. The parameters that describe the transformation are first extracted from the data using the fit() method of the GPFA class. Then the same data is projected into the orthonormal basis using the method transform(). The fit_transform() method can be used to perform these two steps at once."
   ]
  },
  {
   "cell_type": "markdown",
   "metadata": {},
   "source": [
    "## Imports"
   ]
  },
  {
   "cell_type": "code",
   "execution_count": null,
   "metadata": {},
   "outputs": [],
   "source": [
    "cd ../.. "
   ]
  },
  {
   "cell_type": "code",
   "execution_count": null,
   "metadata": {},
   "outputs": [],
   "source": [
    "import elephant\n",
    "from elephant.spike_train_generation import inhomogeneous_poisson_process\n",
    "import quantities as pq\n",
    "import neo\n",
    "\n",
    "import numpy as np\n",
    "from scipy.integrate import odeint\n",
    "\n",
    "from elephant.gpfa import GPFA\n",
    "from sklearn.model_selection import cross_val_score\n",
    "\n",
    "import matplotlib.pyplot as plt\n",
    "from mpl_toolkits.mplot3d import Axes3D"
   ]
  },
  {
   "cell_type": "code",
   "execution_count": null,
   "metadata": {},
   "outputs": [],
   "source": [
    "def random_projection(data, embedding_dimension, loc=0, scale=None):\n",
    "    \"\"\"\n",
    "    Parameters\n",
    "    ----------\n",
    "    data : np.ndarray\n",
    "        Data to embed, shape=(M, N)\n",
    "    embedding_dimension : int\n",
    "        Embedding dimension, dimensionality of the space to project to.\n",
    "    loc : float or array_like of floats\n",
    "        Mean (“centre”) of the distribution.\n",
    "    scale : float or array_like of floats\n",
    "        Standard deviation (spread or “width”) of the distribution.\n",
    "\n",
    "    Returns\n",
    "    -------\n",
    "    np.ndarray \n",
    "       Random (normal) projection of input data, shape=(dim, N)\n",
    "       \n",
    "    See Also\n",
    "    --------\n",
    "    np.random.normal()\n",
    "    \n",
    "    \"\"\"\n",
    "    if scale is None:\n",
    "        scale = 1 / np.sqrt(data.shape[0])\n",
    "    projection_matrix = np.random.normal(loc, scale, (embedding_dimension, data.shape[0]))\n",
    "    return np.dot(projection_matrix, data)\n",
    "\n",
    "\n",
    "def generate_spiketrains(instantaneous_rates, num_trials, timestep):\n",
    "    \"\"\"    \n",
    "    Parameters\n",
    "    ----------\n",
    "    instantaneous_rates : np.ndarray\n",
    "        Array containing time series.\n",
    "    timestep : \n",
    "        Sample period.\n",
    "    num_steps : int\n",
    "        Number of timesteps -> max_time = timestep*(num_steps-1).\n",
    "        \n",
    "    Returns\n",
    "    -------\n",
    "    spiketrains : list of neo.SpikeTrains\n",
    "        List containing spiketrains of inhomogeneous Poisson\n",
    "        processes based on given instantaneous rates.\n",
    "    \n",
    "    \"\"\"\n",
    "    \n",
    "    spiketrains = []\n",
    "    for _ in range(num_trials):\n",
    "        spiketrains_per_trial = []\n",
    "        for inst_rate in instantaneous_rates:\n",
    "            anasig_inst_rate = neo.AnalogSignal(inst_rate, sampling_rate=1/timestep, units=pq.Hz)\n",
    "            spiketrains_per_trial.append(inhomogeneous_poisson_process(anasig_inst_rate))\n",
    "        spiketrains.append(spiketrains_per_trial)\n",
    "        \n",
    "    return spiketrains"
   ]
  },
  {
   "cell_type": "markdown",
   "metadata": {},
   "source": [
    "## Harmonic Oscillator"
   ]
  },
  {
   "cell_type": "code",
   "execution_count": null,
   "metadata": {},
   "outputs": [],
   "source": [
    "def integrated_oscillator(dt, num_steps, x0=0, y0=1, angular_frequency=2*np.pi*1e-3):\n",
    "    \"\"\"    \n",
    "    Parameters\n",
    "    ----------\n",
    "    dt : float\n",
    "        Integration time step in ms.\n",
    "    num_steps : int\n",
    "        Number of integration steps -> max_time = dt*(num_steps-1).\n",
    "    x0, y0 : float \n",
    "        Initial values in three dimensional space.\n",
    "    angular_frequency : float \n",
    "        Angular frequency in 1/ms.\n",
    "    \n",
    "    Returns\n",
    "    -------\n",
    "    t : (num_steps) np.ndarray\n",
    "        Array of timepoints\n",
    "    (2, num_steps) np.ndarray\n",
    "        Integrated two-dimensional trajectory (x, y, z) of the harmonic oscillator\n",
    "    \"\"\" \n",
    "    \n",
    "    assert isinstance(num_steps, int), \"num_steps has to be integer\"\n",
    "    t = dt*np.arange(num_steps)\n",
    "    x = x0*np.cos(angular_frequency*t) + y0*np.sin(angular_frequency*t)\n",
    "    y = -x0*np.sin(angular_frequency*t) + y0*np.cos(angular_frequency*t)\n",
    "    return t, np.array((x, y))"
   ]
  },
  {
   "cell_type": "code",
   "execution_count": null,
   "metadata": {},
   "outputs": [],
   "source": [
    "# set parameters for the integration of the harmonic oscillator\n",
    "timestep = 1*pq.ms\n",
    "trial_duration = 20*pq.s\n",
    "num_steps = int((trial_duration.rescale('ms')/timestep).magnitude)\n",
    "\n",
    "# specify data\n",
    "num_trials = 10\n",
    "num_spiketrains = 20\n",
    "\n",
    "# calculate the oscillator\n",
    "time, oscillator_trajectory_2D = integrated_oscillator(timestep.magnitude,\n",
    "                                                       num_steps=num_steps,\n",
    "                                                       x0=0,\n",
    "                                                       y0=1)\n",
    "\n",
    "# random projection\n",
    "oscillator_trajectory_ND = random_projection(oscillator_trajectory_2D,\n",
    "                                             embedding_dimension=num_spiketrains)\n",
    "\n",
    "# calculate instantaneous rate\n",
    "max_rate = 50*pq.Hz\n",
    "min_oscillator_trajectory_ND = np.amin(oscillator_trajectory_ND)\n",
    "max_oscillator_trajectory_ND = np.amax(oscillator_trajectory_ND)\n",
    "normed_input = (oscillator_trajectory_ND - min_oscillator_trajectory_ND) / (max_oscillator_trajectory_ND - min_oscillator_trajectory_ND)\n",
    "instantaneous_rates_oscillator = normed_input * max_rate\n",
    "print(f'Maximal Rate: {np.max(instantaneous_rates_oscillator.rescale(\"Hz\").magnitude)}')\n",
    "\n",
    "\n",
    "# generate spiketrains\n",
    "synthetic_spiketrains_oscillator = generate_spiketrains(instantaneous_rates_oscillator,\n",
    "                                                        num_trials,\n",
    "                                                        timestep)\n"
   ]
  },
  {
   "cell_type": "code",
   "execution_count": null,
   "metadata": {},
   "outputs": [],
   "source": [
    "f, (ax1, ax2, ax3, ax4) = plt.subplots(1,4, figsize=(20,5))\n",
    "\n",
    "ax1.plot(oscillator_trajectory_2D[0], oscillator_trajectory_2D[1])\n",
    "ax1.set_title('Harmonic Oscillator')\n",
    "ax1.set_xlabel('x')\n",
    "ax1.set_ylabel('y')\n",
    "\n",
    "for i, x in enumerate(oscillator_trajectory_2D):\n",
    "    ax2.plot(time*timestep.rescale('s'), x+i*(np.max(oscillator_trajectory_2D)-np.min(oscillator_trajectory_2D)), label=f'dimension {i}')\n",
    "ax2.set_xlabel('time [s]')\n",
    "ax2.set_title('low-dimensional trajectories')\n",
    "ax2.legend()\n",
    "\n",
    "for i, x in enumerate(oscillator_trajectory_ND):\n",
    "    ax3.plot(time*timestep.rescale('s'), x+i*(np.max(oscillator_trajectory_ND)-np.min(oscillator_trajectory_ND)))\n",
    "ax3.set_xlabel('time [s]')\n",
    "ax3.set_title(f'high-dimensional trajectories, {num_spiketrains} dimensions')\n",
    "\n",
    "trial_to_plot = 0\n",
    "for i, spiketrain in enumerate(synthetic_spiketrains_oscillator[trial_to_plot]):\n",
    "    ax4.plot(spiketrain, np.ones(len(spiketrain)) * i, ls='', marker='|', color='k')\n",
    "ax4.set_xlim([0, trial_duration.rescale('s').magnitude])\n",
    "ax4.set_ylim([-1, num_spiketrains])\n",
    "ax4.set_xlabel('Time (s)')\n",
    "ax4.set_ylabel('Neuron id')\n",
    "ax4.set_title(f'raster plot of trial {trial_to_plot}')\n",
    "\n",
    "plt.tight_layout()\n",
    "plt.show()"
   ]
  },
  {
   "cell_type": "markdown",
   "metadata": {},
   "source": [
    "### Apply GPFA"
   ]
  },
  {
   "cell_type": "markdown",
   "metadata": {},
   "source": [
    "#### fit() and transform() used sequentially"
   ]
  },
  {
   "cell_type": "markdown",
   "metadata": {},
   "source": [
    "Initialize an instance of the class (here explicitely with all default parameters):"
   ]
  },
  {
   "cell_type": "code",
   "execution_count": null,
   "metadata": {},
   "outputs": [],
   "source": [
    "gpfa = GPFA(bin_size=20 * pq.ms, x_dim=2, min_var_frac=0.01,\n",
    "            tau_init=100.0 * pq.ms, eps_init=1.0E-3, em_tol=1.0E-8,\n",
    "            em_max_iters=500, freq_ll=5, verbose=False)"
   ]
  },
  {
   "cell_type": "markdown",
   "metadata": {},
   "source": [
    "Fit a GPFA model onto the data:"
   ]
  },
  {
   "cell_type": "code",
   "execution_count": null,
   "metadata": {},
   "outputs": [],
   "source": [
    "gpfa.fit(synthetic_spiketrains_oscillator)"
   ]
  },
  {
   "cell_type": "markdown",
   "metadata": {},
   "source": [
    "Project the data into the orthonormalized latent variable space:"
   ]
  },
  {
   "cell_type": "code",
   "execution_count": null,
   "metadata": {},
   "outputs": [],
   "source": [
    "result = gpfa.transform(synthetic_spiketrains_oscillator, returned_data=['xorth', 'xsm', 'Vsm', 'VsmGP', 'y'])"
   ]
  },
  {
   "cell_type": "code",
   "execution_count": null,
   "metadata": {},
   "outputs": [],
   "source": [
    "print(result.keys())\n",
    "xorth = result['xorth']"
   ]
  },
  {
   "cell_type": "code",
   "execution_count": null,
   "metadata": {},
   "outputs": [],
   "source": [
    "f, (ax1, ax2) = plt.subplots(1,2, figsize=(10,5))\n",
    "\n",
    "linewidth_single_trial = 0.5\n",
    "color_single_trial = 'C0'\n",
    "alpha_single_trial = 0.5\n",
    "\n",
    "linewidth_trial_average = 2\n",
    "color_trial_average = 'C1'\n",
    "\n",
    "ax1.plot(oscillator_trajectory_2D[0], oscillator_trajectory_2D[1])\n",
    "ax1.set_title('Harmonic Oscillator')\n",
    "ax1.set_xlabel('x')\n",
    "ax1.set_ylabel('y')\n",
    "\n",
    "# single trial trajectories\n",
    "for i in range(num_trials):\n",
    "    ax2.plot(xorth[i][0], xorth[i][1], '-', linewidth=linewidth_single_trial, color=color_single_trial, alpha=alpha_single_trial)\n",
    "\n",
    "    # trial averaged trajectories\n",
    "average_trajectories = np.zeros_like(xorth[0])\n",
    "for i in range(num_trials):\n",
    "    average_trajectories += xorth[i]\n",
    "average_trajectories /= num_trials\n",
    "ax2.plot(average_trajectories[0], average_trajectories[1], '-', linewidth=linewidth_trial_average, color=color_trial_average)\n",
    "ax2.set_title('GPFA trajectories')\n",
    "ax2.set_xlabel('component 0')\n",
    "ax2.set_ylabel('component 1')\n",
    "\n",
    "plt.tight_layout()\n",
    "plt.show()"
   ]
  },
  {
   "cell_type": "markdown",
   "metadata": {},
   "source": [
    "## Lorentz Attractor"
   ]
  },
  {
   "cell_type": "code",
   "execution_count": null,
   "metadata": {},
   "outputs": [],
   "source": [
    "def _lorenz_ode(point_of_interest, timepoint, sigma, rho, beta, tau):\n",
    "    \"\"\"\n",
    "    Fit the model with `spiketrains` data and apply the dimensionality\n",
    "    reduction on `spiketrains`.\n",
    "\n",
    "    Parameters\n",
    "    ----------\n",
    "    point_of_interest : tuple\n",
    "        Tupel containing coordinates (x,y,z) in three dimensional space. \n",
    "    timepoint : a point of interest in time\n",
    "    dt : \n",
    "        Integration time step in ms.\n",
    "    num_steps : int\n",
    "        Number of integration steps -> max_time = dt*(num_steps-1).\n",
    "    sigma, rho, beta : float \n",
    "        Parameters defining the lorenz attractor\n",
    "    tau : characteristic timescale in ms\n",
    "\n",
    "    Returns\n",
    "    -------\n",
    "    x_dot, y_dot, z_dot : float \n",
    "        Values of the lorenz attractor's partial derivatives\n",
    "        at the point x, y, z.\n",
    "    \"\"\"\n",
    "    \n",
    "    x, y, z = point_of_interest\n",
    "\n",
    "    x_dot = (sigma*(y - x)) / tau\n",
    "    y_dot = (rho*x - y - x*z) / tau\n",
    "    z_dot = (x*y - beta*z) / tau\n",
    "    return x_dot, y_dot, z_dot\n",
    "\n",
    "\n",
    "def integrated_lorenz(dt, num_steps, x0=0, y0=1, z0=1.05,\n",
    "                      sigma=10, rho=28, beta=2.667, tau=1e3):\n",
    "    \"\"\"\n",
    "    \n",
    "    Parameters\n",
    "    ----------\n",
    "    dt : \n",
    "        Integration time step in ms.\n",
    "    num_steps : int\n",
    "        Number of integration steps -> max_time = dt*(num_steps-1).\n",
    "    x0, y0, z0 : float \n",
    "        Initial values in three dimensional space\n",
    "    sigma, rho, beta : float \n",
    "        Parameters defining the lorenz attractor\n",
    "    tau : characteristic timescale in ms\n",
    "    \n",
    "    Returns\n",
    "    -------\n",
    "    t : (num_steps) np.ndarray\n",
    "        Array of timepoints\n",
    "    (3, num_steps) np.ndarray\n",
    "        Integrated three-dimensional trajectory (x, y, z) of the Lorenz attractor\n",
    "    \"\"\"\n",
    "\n",
    "    assert isinstance(num_steps, int), \"num_steps has to be integer\"\n",
    "    \n",
    "    t = dt*np.arange(num_steps)\n",
    "    poi = (x0, y0, z0)\n",
    "    return t, odeint(_lorenz_ode, poi, t, args=(sigma, rho, beta, tau)).T"
   ]
  },
  {
   "cell_type": "code",
   "execution_count": null,
   "metadata": {},
   "outputs": [],
   "source": [
    "# set parameters for the integration of the Lorentz attractor\n",
    "np.random.seed(36) # to ensure that 3D plotting angle is chosen correctly\n",
    "\n",
    "# Note: the initial evolution of the Lorentz attractor is transient and\n",
    "# will be skipped for the spiketrain generation\n",
    "timestep = 1*pq.ms\n",
    "transient_duration = 1*pq.s\n",
    "trial_duration = 25*pq.s\n",
    "num_steps_transient = int((transient_duration.rescale('ms')/timestep).magnitude)\n",
    "num_steps = int((trial_duration.rescale('ms')/timestep).magnitude)\n",
    "\n",
    "# specify data\n",
    "num_trials = 20\n",
    "num_spiketrains = 50\n",
    "\n",
    "# calculate the oscillator\n",
    "time_with_transient, lorentz_trajectory_3D = integrated_lorenz(timestep,\n",
    "                                                num_steps=num_steps_transient+num_steps,\n",
    "                                                x0=0,\n",
    "                                                y0=1,\n",
    "                                                z0=1.25)\n",
    "\n",
    "time = time_with_transient[num_steps_transient:]-transient_duration\n",
    "\n",
    "# random projection\n",
    "lorentz_trajectory_ND = random_projection(lorentz_trajectory_3D[:, num_steps_transient:],\n",
    "                                          embedding_dimension=num_spiketrains)\n",
    "\n",
    "# calculate instantaneous rate\n",
    "# an additional non-linearity is used to enhance the signal\n",
    "instantaneous_rates_lorentz = np.power(1.08, lorentz_trajectory_ND)\n",
    "print(f'Maximal Rate: {np.max(instantaneous_rates_lorentz)}')\n",
    "\n",
    "# generate spiketrains\n",
    "synthetic_spiketrains_lorentz = generate_spiketrains(instantaneous_rates_lorentz,\n",
    "                                                        num_trials,\n",
    "                                                        timestep)"
   ]
  },
  {
   "cell_type": "code",
   "execution_count": null,
   "metadata": {},
   "outputs": [],
   "source": [
    "f = plt.figure(figsize=(20,5))\n",
    "ax1 = f.add_subplot(1, 4, 1, projection='3d')\n",
    "ax2 = f.add_subplot(1, 4, 2)\n",
    "ax3 = f.add_subplot(1, 4, 3)\n",
    "ax4 = f.add_subplot(1, 4, 4)\n",
    "\n",
    "ax1.plot(lorentz_trajectory_3D[0], lorentz_trajectory_3D[1], lorentz_trajectory_3D[2])\n",
    "ax1.set_title('Lorentz Attractor')\n",
    "ax1.set_xlabel('x')\n",
    "ax1.set_ylabel('y')\n",
    "ax1.set_ylabel('z')\n",
    "\n",
    "for i, x in enumerate(lorentz_trajectory_3D):\n",
    "    ax2.plot(time_with_transient*timestep.rescale('s'), x+i*(np.max(lorentz_trajectory_3D)-np.min(lorentz_trajectory_3D)), label=f'dimension {i}')\n",
    "ax2.axvline(transient_duration.rescale('s').magnitude, color='r',label='end of initial transient')\n",
    "ax2.set_xlabel('time [s]')\n",
    "ax2.set_title('low-dimensional trajectories')\n",
    "ax2.legend()\n",
    "\n",
    "for i, x in enumerate(instantaneous_rates_lorentz):\n",
    "    ax3.plot(time*timestep.rescale('s'), x+i*(np.max(instantaneous_rates_lorentz)-np.min(instantaneous_rates_lorentz)))\n",
    "ax3.set_xlabel('time [s]')\n",
    "ax3.set_title(f'high-dimensional trajectories, {num_spiketrains} dimensions')\n",
    "\n",
    "trial_to_plot = 0\n",
    "for i, spiketrain in enumerate(synthetic_spiketrains_lorentz[trial_to_plot]):\n",
    "    ax4.plot(spiketrain, np.ones(len(spiketrain)) * i, ls='', marker='|', color='k')\n",
    "ax4.set_xlim([0, trial_duration.rescale('s').magnitude])\n",
    "ax4.set_ylim([-1, num_spiketrains])\n",
    "ax4.set_xlabel('Time (s)')\n",
    "ax4.set_ylabel('Neuron id')\n",
    "ax4.set_title(f'raster plot of trial {trial_to_plot}')\n",
    "\n",
    "plt.tight_layout()\n",
    "plt.show()"
   ]
  },
  {
   "cell_type": "markdown",
   "metadata": {},
   "source": [
    "### Lorentz Attractor"
   ]
  },
  {
   "cell_type": "markdown",
   "metadata": {},
   "source": [
    "### fit_transform()"
   ]
  },
  {
   "cell_type": "markdown",
   "metadata": {},
   "source": [
    "Initialize the class instance, fit and transform the input data at once"
   ]
  },
  {
   "cell_type": "code",
   "execution_count": null,
   "metadata": {},
   "outputs": [],
   "source": [
    "gpfa = GPFA(x_dim=3)\n",
    "xorth = gpfa.fit_transform(synthetic_spiketrains_lorentz)"
   ]
  },
  {
   "cell_type": "code",
   "execution_count": null,
   "metadata": {},
   "outputs": [],
   "source": [
    "f = plt.figure(figsize=(10,5))\n",
    "ax1 = f.add_subplot(1, 2, 1, projection='3d')\n",
    "ax2 = f.add_subplot(1, 2, 2, projection='3d')\n",
    "\n",
    "linewidth_single_trial = 0.5\n",
    "color_single_trial = 'C0'\n",
    "alpha_single_trial = 0.5\n",
    "\n",
    "linewidth_trial_average = 2\n",
    "color_trial_average = 'C1'\n",
    "\n",
    "ax1.plot(lorentz_trajectory_3D[0], lorentz_trajectory_3D[1], lorentz_trajectory_3D[2])\n",
    "ax1.set_title('Lorentz Attractor')\n",
    "ax1.set_xlabel('x')\n",
    "ax1.set_ylabel('y')\n",
    "ax1.set_ylabel('z')\n",
    "\n",
    "# single trial trajectories\n",
    "for i in range(num_trials):\n",
    "    ax2.plot(xorth[i][0], xorth[i][1], xorth[i][2], '-', linewidth=linewidth_single_trial, color=color_single_trial, alpha=alpha_single_trial)\n",
    "\n",
    "# trial averaged trajectories\n",
    "average_trajectories = np.zeros_like(xorth[0])\n",
    "for i in range(num_trials):\n",
    "    average_trajectories += xorth[i]\n",
    "average_trajectories /= num_trials\n",
    "ax2.plot(average_trajectories[0], average_trajectories[1], average_trajectories[2], '-', linewidth=linewidth_trial_average, color=color_trial_average)\n",
    "ax2.set_title('GPFA trajectories')\n",
    "ax2.set_xlabel('component 0')\n",
    "ax2.set_ylabel('component 1')\n",
    "ax2.set_zlabel('component 2')\n",
    "\n",
    "ax2.view_init(azim=-20, elev=-120)\n",
    "\n",
    "plt.tight_layout()\n",
    "plt.show()"
   ]
  },
  {
   "cell_type": "code",
   "execution_count": null,
   "metadata": {},
   "outputs": [],
   "source": [
    "f, (ax1,ax2) = plt.subplots(1,2, figsize=(10,5))\n",
    "\n",
    "for i, x in enumerate(lorentz_trajectory_3D):\n",
    "    ax1.plot(time_with_transient*timestep.rescale('s'), x+i*(np.max(lorentz_trajectory_3D)-np.min(lorentz_trajectory_3D)), label=f'dimension {i}')\n",
    "ax1.axvline(transient_duration.rescale('s').magnitude, color='r',label='end of initial transient')\n",
    "ax1.set_xlabel('time [s]')\n",
    "ax1.set_title('original low-dimensional trajectories')\n",
    "ax1.legend()\n",
    "\n",
    "for i, x in enumerate(average_trajectories):\n",
    "    ax2.plot(x+i*(np.max(average_trajectories)-np.min(average_trajectories)), label=f'dimension {i}')\n",
    "ax2.axvline(transient_duration.rescale('s').magnitude, color='r',label='end of initial transient')\n",
    "ax2.set_xlabel('time [s]')\n",
    "ax2.set_title('extracted trial averaged trajectories')\n",
    "ax2.legend()\n",
    "plt.show()"
   ]
  },
  {
   "cell_type": "markdown",
   "metadata": {},
   "source": [
    "## Cross-validation"
   ]
  },
  {
   "cell_type": "markdown",
   "metadata": {},
   "source": [
    "The GPFA class is compatible to the cross-validation functions of `sklearn.model_selection`, such that users can perform cross-validation to search for a set of parameters yielding best performance using these functions. By default a call of the sklearn.model_selection.cross_val_score(..., cv=5) will invoque a five-fold cross validation.\n",
    "\n",
    "Further below this will be done for several input dimensions to the GPFA in order to see, which dimension yields the best fit (largest log-likelihood). This cross-validation will be performed on the Lorentz attractor, so it is expected to see the maximal log-likelihood for three dimensions."
   ]
  },
  {
   "cell_type": "markdown",
   "metadata": {},
   "source": [
    "The following step is time consuming:"
   ]
  },
  {
   "cell_type": "code",
   "execution_count": null,
   "metadata": {},
   "outputs": [],
   "source": [
    "log_likelihoods = []\n",
    "for x_dim in range(1, 6):\n",
    "    gpfa = GPFA(x_dim=x_dim, verbose=False)\n",
    "    log_likelihoods.append(np.mean(cross_val_score(gpfa, synthetic_spiketrains_lorentz, cv=5)))"
   ]
  },
  {
   "cell_type": "code",
   "execution_count": null,
   "metadata": {},
   "outputs": [],
   "source": [
    "f = plt.figure(figsize=(8,8))\n",
    "plt.title('mean log-likelihood of five cross-validation folds')\n",
    "plt.plot(np.arange(1,6), log_likelihoods, '.-')\n",
    "plt.plot(np.argmax(log_likelihoods)+1, np.max(log_likelihoods), 'x', markersize=10, color='r')\n",
    "plt.xlabel('dimension')\n",
    "plt.ylabel('log-likelihood')\n",
    "plt.tight_layout()\n",
    "plt.show()"
   ]
  },
  {
   "cell_type": "code",
   "execution_count": null,
   "metadata": {},
   "outputs": [],
   "source": []
  }
 ],
 "metadata": {
  "kernelspec": {
   "display_name": "elephant_gpfa",
   "language": "python",
   "name": "elephant_gpfa"
  },
  "language_info": {
   "codemirror_mode": {
    "name": "ipython",
    "version": 3
   },
   "file_extension": ".py",
   "mimetype": "text/x-python",
   "name": "python",
   "nbconvert_exporter": "python",
   "pygments_lexer": "ipython3",
   "version": "3.7.3"
  }
 },
 "nbformat": 4,
 "nbformat_minor": 2
}
