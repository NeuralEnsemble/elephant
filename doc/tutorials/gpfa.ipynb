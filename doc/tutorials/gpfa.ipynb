{
 "cells": [
  {
   "cell_type": "markdown",
   "metadata": {},
   "source": [
    "# Tutorial: GPFA (Gaussian Process Factor Analysis)\n",
    "\n",
    "\n",
    "\n"
   ]
  },
  {
   "cell_type": "markdown",
   "metadata": {},
   "source": [
    "- mention the original code and publication\n",
    "- explain method"
   ]
  },
  {
   "cell_type": "markdown",
   "metadata": {},
   "source": [
    "## Imports"
   ]
  },
  {
   "cell_type": "code",
   "execution_count": 1,
   "metadata": {},
   "outputs": [
    {
     "name": "stdout",
     "output_type": "stream",
     "text": [
      "/home/essink/working_environment/elephant\n"
     ]
    }
   ],
   "source": [
    "cd ../.."
   ]
  },
  {
   "cell_type": "code",
   "execution_count": 2,
   "metadata": {},
   "outputs": [],
   "source": [
    "import elephant\n",
    "from elephant.spike_train_generation import inhomogeneous_poisson_process\n",
    "import quantities as pq\n",
    "import neo\n",
    "\n",
    "import numpy as np\n",
    "from scipy.integrate import odeint\n",
    "\n",
    "from elephant.gpfa import GPFA\n",
    "from sklearn.model_selection import cross_val_score\n",
    "\n",
    "import matplotlib.pyplot as plt\n",
    "from mpl_toolkits.mplot3d import Axes3D"
   ]
  },
  {
   "cell_type": "code",
   "execution_count": 3,
   "metadata": {},
   "outputs": [],
   "source": [
    "def _lorenz_ode(poi, t, s, r, b, tau):\n",
    "    '''\n",
    "    Given:\n",
    "       poi: a point of interest in three dimensional space (tuple (x,y,z))\n",
    "       t      : a point of interest in time\n",
    "       s, r, b: parameters defining the lorenz attractor\n",
    "    Returns:\n",
    "       x_dot, y_dot, z_dot: values of the lorenz attractor's partial\n",
    "           derivatives at the point x, y, z\n",
    "    '''\n",
    "    x, y, z = poi\n",
    "\n",
    "    x_dot = (s*(y - x)) / tau\n",
    "    y_dot = (r*x - y - x*z) / tau\n",
    "    z_dot = (x*y - b*z) / tau\n",
    "    return x_dot, y_dot, z_dot\n",
    "\n",
    "\n",
    "def integrated_lorenz(dt, num_steps, x0=0, y0=1, z0=1.05,\n",
    "                      s=10, r=28, b=2.667, tau=1e3):\n",
    "    '''\n",
    "    Given:\n",
    "       dt        : integration time step in ms\n",
    "       num_steps : number of integration steps -> max_time = dt*(num_steps-1)\n",
    "       x0, y0, z0: initial values in three dimensional space\n",
    "       s, r, b   : parameters defining the lorenz attractor\n",
    "       tau       : characteristic timescale in ms\n",
    "    Returns:\n",
    "       t, (x, y, z): integrated trajectory of the Lorenz attractor\n",
    "    '''\n",
    "    assert isinstance(num_steps, int), \"num_steps has to be integer\"\n",
    "    t = dt*np.arange(num_steps)\n",
    "    poi = (x0, y0, z0)\n",
    "    return t, odeint(_lorenz_ode, poi, t, args=(s, r, b, tau)).T\n",
    "\n",
    "\n",
    "def integrated_oscillator(dt, num_steps, x0=0, y0=1, w=2*np.pi*1e-3):\n",
    "    '''\n",
    "    Given:\n",
    "       dt       : integration time step in ms\n",
    "       num_steps: number of integration steps -> max_time = dt*(num_steps-1)\n",
    "       x0, y0   : initial values in two dimensional space\n",
    "       w        : angular frequency in 1/ms\n",
    "    Returns:\n",
    "       t, (x, y): integrated trajectory of a harmonic oscillator\n",
    "    '''\n",
    "    assert isinstance(num_steps, int), \"num_steps has to be integer\"\n",
    "    t = dt*np.arange(num_steps)\n",
    "    x = x0*np.cos(w*t) + y0*np.sin(w*t)\n",
    "    y = -x0*np.sin(w*t) + y0*np.cos(w*t)\n",
    "    return t, np.array((x, y))\n",
    "\n",
    "def random_projection(X, dim, loc=0, scale=None):\n",
    "    '''\n",
    "    Given:\n",
    "       X    : data to embed, shape=(M, N)\n",
    "       dim  : embedding dimension\n",
    "       loc  : mean of random projection matrix\n",
    "       scale: standard deviation of random projection matrix\n",
    "    Returns:\n",
    "       Y: random (normal) projection of input data, shape=(dim, N)\n",
    "    '''\n",
    "    if scale is None:\n",
    "        scale = 1 / np.sqrt(X.shape[0])\n",
    "    M = np.random.normal(loc, scale, (dim, X.shape[0]))\n",
    "    return np.dot(M, X)\n",
    "\n"
   ]
  },
  {
   "cell_type": "markdown",
   "metadata": {},
   "source": [
    "# Generate spike data\n",
    "\n",
    "- start from a lorenz attractor\n",
    "- randomly project lorenz attractor into higher dimensions\n",
    "- use high dimensional trajectories as instantaneous rate to generate inhomogeneous spiketrains"
   ]
  },
  {
   "cell_type": "code",
   "execution_count": 61,
   "metadata": {},
   "outputs": [],
   "source": [
    "dt = 1*pq.ms\n",
    "transient_duration = 1*pq.s\n",
    "trial_duration = 20*pq.s\n",
    "num_steps_transient = int((transient_duration.rescale('ms')/dt).magnitude)\n",
    "num_steps = int((trial_duration.rescale('ms')/dt).magnitude)\n",
    "num_trials = 50\n",
    "num_spiketrains = 20\n",
    "\n",
    "#t, X = integrated_lorenz(dt, num_steps=num_steps_transient+num_steps, x0=0, y0=1, z0=1.25)\n",
    "#Y = random_projection(X[:, num_steps_transient:], dim=num_spiketrains)\n",
    "t, X = integrated_oscillator(dt.magnitude, num_steps=num_steps, x0=0, y0=1)\n",
    "Y = random_projection(X, dim=num_spiketrains)\n",
    "\n",
    "# Calculate instantaneous rate for in case of the oscillator\n",
    "max_rate = 10*pq.Hz\n",
    "Y_min = np.amin(Y)\n",
    "Y_max = np.amax(Y)\n",
    "norm_input = (Y - Y_min) / (Y_max - Y_min)\n",
    "inst_rates = norm_input * max_rate\n",
    "\n",
    "# Calculate instantaneous rate for in case of the Lorentz attractor\n",
    "#inst_rates = np.power(20, Y)\n"
   ]
  },
  {
   "cell_type": "code",
   "execution_count": 53,
   "metadata": {},
   "outputs": [],
   "source": [
    "f = plt.figure()\n",
    "for i,y in enumerate(Y):\n",
    "    plt.plot(y+i*np.max(Y))"
   ]
  },
  {
   "cell_type": "code",
   "execution_count": 63,
   "metadata": {},
   "outputs": [],
   "source": [
    "for i,y in enumerate(inst_rates):\n",
    "    plt.plot(y+i*np.max(inst_rates))"
   ]
  },
  {
   "cell_type": "code",
   "execution_count": 39,
   "metadata": {},
   "outputs": [],
   "source": [
    "data = []\n",
    "for _ in range(num_trials):\n",
    "    spiketrains_per_trial = []\n",
    "    for rate in inst_rates:\n",
    "        inst_rate_anasig = neo.AnalogSignal(rate, sampling_rate=1/dt, units=pq.Hz)\n",
    "        spiketrains_per_trial.append(inhomogeneous_poisson_process(inst_rate_anasig))\n",
    "    data.append(spiketrains_per_trial)\n",
    "t_max = t[-1] + t[1]"
   ]
  },
  {
   "cell_type": "code",
   "execution_count": 62,
   "metadata": {},
   "outputs": [
    {
     "data": {
      "text/plain": [
       "array([ 9.7673215 , 15.19950844, 17.29229304, 16.29502546,  9.69342282,\n",
       "        8.11990098, 13.41237011, 10.78291098,  9.45555061, 15.32154597,\n",
       "        9.43264121,  9.2498299 , 11.13563896, 10.37952664, 17.64492335,\n",
       "       10.21121025, 15.99666032, 10.46846245,  7.92603044, 10.15277356])"
      ]
     },
     "execution_count": 62,
     "metadata": {},
     "output_type": "execute_result"
    }
   ],
   "source": [
    "np.mean(inst_rates, axis=1)"
   ]
  },
  {
   "cell_type": "code",
   "execution_count": 47,
   "metadata": {},
   "outputs": [
    {
     "data": {
      "text/plain": [
       "[<matplotlib.collections.EventCollection at 0x7fd142ef4eb8>,\n",
       " <matplotlib.collections.EventCollection at 0x7fd142f03860>,\n",
       " <matplotlib.collections.EventCollection at 0x7fd142f0e208>,\n",
       " <matplotlib.collections.EventCollection at 0x7fd142f24c88>,\n",
       " <matplotlib.collections.EventCollection at 0x7fd142f14748>,\n",
       " <matplotlib.collections.EventCollection at 0x7fd142d13320>,\n",
       " <matplotlib.collections.EventCollection at 0x7fd142d13cf8>,\n",
       " <matplotlib.collections.EventCollection at 0x7fd142cdea90>,\n",
       " <matplotlib.collections.EventCollection at 0x7fd142ce86d8>,\n",
       " <matplotlib.collections.EventCollection at 0x7fd142c9ecc0>,\n",
       " <matplotlib.collections.EventCollection at 0x7fd142c96400>,\n",
       " <matplotlib.collections.EventCollection at 0x7fd142c96c18>,\n",
       " <matplotlib.collections.EventCollection at 0x7fd142c613c8>,\n",
       " <matplotlib.collections.EventCollection at 0x7fd142cef048>,\n",
       " <matplotlib.collections.EventCollection at 0x7fd142cef748>,\n",
       " <matplotlib.collections.EventCollection at 0x7fd142c66c18>,\n",
       " <matplotlib.collections.EventCollection at 0x7fd142c1e588>,\n",
       " <matplotlib.collections.EventCollection at 0x7fd142c72cc0>,\n",
       " <matplotlib.collections.EventCollection at 0x7fd142cb55f8>,\n",
       " <matplotlib.collections.EventCollection at 0x7fd142cb5c88>]"
      ]
     },
     "execution_count": 47,
     "metadata": {},
     "output_type": "execute_result"
    }
   ],
   "source": [
    "plt.eventplot(data[0])\n",
    "#plt.xlim(0,1)"
   ]
  },
  {
   "cell_type": "code",
   "execution_count": 45,
   "metadata": {},
   "outputs": [
    {
     "data": {
      "text/plain": [
       "(0, 1)"
      ]
     },
     "execution_count": 45,
     "metadata": {},
     "output_type": "execute_result"
    }
   ],
   "source": [
    "plt.eventplot(data[1])\n",
    "plt.xlim(0,1)"
   ]
  },
  {
   "cell_type": "markdown",
   "metadata": {},
   "source": [
    "# Apply GPFA\n",
    "\n"
   ]
  },
  {
   "cell_type": "code",
   "execution_count": 9,
   "metadata": {},
   "outputs": [],
   "source": [
    "%matplotlib qt"
   ]
  },
  {
   "cell_type": "markdown",
   "metadata": {},
   "source": [
    "## 2D"
   ]
  },
  {
   "cell_type": "code",
   "execution_count": 40,
   "metadata": {},
   "outputs": [
    {
     "name": "stderr",
     "output_type": "stream",
     "text": [
      "EM iteration:   0%|          | 0/500 [00:00<?, ?it/s]"
     ]
    },
    {
     "name": "stdout",
     "output_type": "stream",
     "text": [
      "Initializing parameters using factor analysis...\n",
      "\n",
      "Fitting GPFA model...\n"
     ]
    },
    {
     "name": "stderr",
     "output_type": "stream",
     "text": [
      "EM iteration:  89%|████████▉ | 444/500 [01:02<00:08,  6.93it/s]"
     ]
    },
    {
     "name": "stdout",
     "output_type": "stream",
     "text": [
      "Fitting has converged after 445 EM iterations.)\n"
     ]
    }
   ],
   "source": [
    "gpfa = GPFA(x_dim=2)\n",
    "xorth = gpfa.fit_transform(data)"
   ]
  },
  {
   "cell_type": "code",
   "execution_count": 41,
   "metadata": {},
   "outputs": [
    {
     "data": {
      "text/plain": [
       "[<matplotlib.lines.Line2D at 0x7fd143728390>]"
      ]
     },
     "execution_count": 41,
     "metadata": {},
     "output_type": "execute_result"
    }
   ],
   "source": [
    "f = plt.figure()\n",
    "ax = f.gca()\n",
    "lw = 0.5\n",
    "col = 'k'\n",
    "lw1 = 2\n",
    "col1 = 'r'\n",
    "alpha = 0.5\n",
    "\n",
    "average_trajectories = np.zeros_like(xorth[0])\n",
    "for i in range(num_trials):\n",
    "    ax.plot(xorth[i][0], xorth[i][1], '-', linewidth=lw, color=col, alpha=alpha)\n",
    "    average_trajectories += xorth[i]\n",
    "average_trajectories /= num_trials\n",
    "\n",
    "ax.plot(average_trajectories[0], average_trajectories[1], '-', linewidth=lw1, color=col1)"
   ]
  },
  {
   "cell_type": "code",
   "execution_count": 48,
   "metadata": {},
   "outputs": [
    {
     "data": {
      "text/plain": [
       "[<matplotlib.lines.Line2D at 0x7fd142b7ac50>]"
      ]
     },
     "execution_count": 48,
     "metadata": {},
     "output_type": "execute_result"
    }
   ],
   "source": [
    "f1 = plt.figure()\n",
    "ax = f1.gca()\n",
    "lw = 1\n",
    "col = 'k'\n",
    "\n",
    "ax.plot(X[0], X[1], '.-', linewidth=lw, color=col)"
   ]
  },
  {
   "cell_type": "markdown",
   "metadata": {},
   "source": [
    "## 3D"
   ]
  },
  {
   "cell_type": "code",
   "execution_count": 16,
   "metadata": {},
   "outputs": [
    {
     "name": "stderr",
     "output_type": "stream",
     "text": [
      "EM iteration:   0%|          | 0/500 [00:00<?, ?it/s]"
     ]
    },
    {
     "name": "stdout",
     "output_type": "stream",
     "text": [
      "Initializing parameters using factor analysis...\n",
      "\n",
      "Fitting GPFA model...\n"
     ]
    },
    {
     "name": "stderr",
     "output_type": "stream",
     "text": [
      "EM iteration: 100%|██████████| 500/500 [01:27<00:00,  5.40it/s]\n"
     ]
    }
   ],
   "source": [
    "gpfa = GPFA(x_dim=3)\n",
    "xorth = gpfa.fit_transform(data)"
   ]
  },
  {
   "cell_type": "code",
   "execution_count": 21,
   "metadata": {},
   "outputs": [
    {
     "data": {
      "text/plain": [
       "[<mpl_toolkits.mplot3d.art3d.Line3D at 0x7fd143a1d3c8>]"
      ]
     },
     "execution_count": 21,
     "metadata": {},
     "output_type": "execute_result"
    }
   ],
   "source": [
    "%matplotlib qt\n",
    "\n",
    "f = plt.figure()\n",
    "ax = f.gca(projection='3d')\n",
    "lw = 0.5\n",
    "col = 'k'\n",
    "lw1 = 2\n",
    "col1 = 'r'\n",
    "alpha = 0.5\n",
    "\n",
    "average_trajectories = np.zeros_like(xorth[0])\n",
    "for i in range(num_trials):\n",
    "    ax.plot(xorth[i][0], xorth[i][1], xorth[i][2], '-', linewidth=lw, color=col, alpha=alpha)\n",
    "    average_trajectories += xorth[i]\n",
    "average_trajectories /= num_trials\n",
    "\n",
    "ax.plot(average_trajectories[0], average_trajectories[1], average_trajectories[2], '-', linewidth=lw1, color=col1)\n",
    "    \n"
   ]
  },
  {
   "cell_type": "code",
   "execution_count": 18,
   "metadata": {},
   "outputs": [
    {
     "ename": "IndexError",
     "evalue": "index 2 is out of bounds for axis 0 with size 2",
     "output_type": "error",
     "traceback": [
      "\u001b[0;31m---------------------------------------------------------------------------\u001b[0m",
      "\u001b[0;31mIndexError\u001b[0m                                Traceback (most recent call last)",
      "\u001b[0;32m<ipython-input-18-6a3ca20b55a6>\u001b[0m in \u001b[0;36m<module>\u001b[0;34m\u001b[0m\n\u001b[1;32m      4\u001b[0m \u001b[0mcol\u001b[0m \u001b[0;34m=\u001b[0m \u001b[0;34m'k'\u001b[0m\u001b[0;34m\u001b[0m\u001b[0;34m\u001b[0m\u001b[0m\n\u001b[1;32m      5\u001b[0m \u001b[0;34m\u001b[0m\u001b[0m\n\u001b[0;32m----> 6\u001b[0;31m \u001b[0max\u001b[0m\u001b[0;34m.\u001b[0m\u001b[0mplot\u001b[0m\u001b[0;34m(\u001b[0m\u001b[0mX\u001b[0m\u001b[0;34m[\u001b[0m\u001b[0;36m0\u001b[0m\u001b[0;34m]\u001b[0m\u001b[0;34m,\u001b[0m \u001b[0mX\u001b[0m\u001b[0;34m[\u001b[0m\u001b[0;36m1\u001b[0m\u001b[0;34m]\u001b[0m\u001b[0;34m,\u001b[0m \u001b[0mX\u001b[0m\u001b[0;34m[\u001b[0m\u001b[0;36m2\u001b[0m\u001b[0;34m]\u001b[0m\u001b[0;34m,\u001b[0m \u001b[0;34m'.-'\u001b[0m\u001b[0;34m,\u001b[0m \u001b[0mlinewidth\u001b[0m\u001b[0;34m=\u001b[0m\u001b[0mlw\u001b[0m\u001b[0;34m,\u001b[0m \u001b[0mcolor\u001b[0m\u001b[0;34m=\u001b[0m\u001b[0mcol\u001b[0m\u001b[0;34m)\u001b[0m\u001b[0;34m\u001b[0m\u001b[0;34m\u001b[0m\u001b[0m\n\u001b[0m",
      "\u001b[0;31mIndexError\u001b[0m: index 2 is out of bounds for axis 0 with size 2"
     ]
    }
   ],
   "source": [
    "f1 = plt.figure()\n",
    "ax = f1.gca(projection='3d')\n",
    "lw = 1\n",
    "col = 'k'\n",
    "\n",
    "ax.plot(X[0], X[1], X[2], '.-', linewidth=lw, color=col)"
   ]
  },
  {
   "cell_type": "code",
   "execution_count": null,
   "metadata": {},
   "outputs": [],
   "source": [
    "f2, (ax1,ax2,ax3) = plt.subplots(3,1)\n",
    "\n",
    "times = inst_rate_anasig.times.rescale('s')\n",
    "ax1.plot(times, X[0, num_steps_transient:])\n",
    "ax2.plot(times, X[1, num_steps_transient:])\n",
    "ax3.plot(times, X[2, num_steps_transient:])\n",
    "\n"
   ]
  },
  {
   "cell_type": "code",
   "execution_count": null,
   "metadata": {},
   "outputs": [],
   "source": [
    "f3, (ax1,ax2,ax3) = plt.subplots(3,1)\n",
    "\n",
    "times = np.arange(average_trajectories.shape[1])*0.02\n",
    "ax1.plot(times, average_trajectories[0])\n",
    "ax2.plot(times, average_trajectories[1])\n",
    "ax3.plot(times, average_trajectories[2])"
   ]
  },
  {
   "cell_type": "markdown",
   "metadata": {},
   "source": [
    "# Cross-validation"
   ]
  },
  {
   "cell_type": "code",
   "execution_count": null,
   "metadata": {},
   "outputs": [],
   "source": [
    "lls = []\n",
    "for x_dim in range(1, 6):\n",
    "    gpfa = GPFA(x_dim=x_dim)\n",
    "    lls.append(np.mean(cross_val_score(gpfa, data, cv=5)))"
   ]
  },
  {
   "cell_type": "code",
   "execution_count": null,
   "metadata": {},
   "outputs": [],
   "source": [
    "plt.plot(np.arange(1,6), lls, '.-')"
   ]
  },
  {
   "cell_type": "code",
   "execution_count": null,
   "metadata": {},
   "outputs": [],
   "source": []
  }
 ],
 "metadata": {
  "kernelspec": {
   "display_name": "elephant_gpfa",
   "language": "python",
   "name": "elephant_gpfa"
  },
  "language_info": {
   "codemirror_mode": {
    "name": "ipython",
    "version": 3
   },
   "file_extension": ".py",
   "mimetype": "text/x-python",
   "name": "python",
   "nbconvert_exporter": "python",
   "pygments_lexer": "ipython3",
   "version": "3.7.3"
  }
 },
 "nbformat": 4,
 "nbformat_minor": 2
}
